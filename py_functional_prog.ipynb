{
 "cells": [
  {
   "cell_type": "markdown",
   "id": "29dc8e03-77ab-462d-8763-4d2ce5b37fe0",
   "metadata": {},
   "source": [
    "# What is Functional Programming?\n",
    "\n",
    "Functional programming is a programming paradigm that treats computation as the evaluation of mathematical functions and avoids changing state and mutable data. In functional programming, functions are treated as first-class citizens, meaning they can be assigned to variables, passed as arguments to other functions, and returned as values from functions. Python supports functional programming principles, although it is not a purely functional programming language like Haskell or Lisp.\n",
    "\n",
    "Here are some key concepts and features of functional programming in Python:\n",
    "\n",
    "1. **Pure Functions:** Functional programming encourages the use of pure functions. A pure function is a function that always produces the same output for the same input and has no side effects. It doesn't modify any external state or data.\n",
    "\n",
    "2. **Immutable Data:** In functional programming, data is typically immutable, meaning it cannot be modified after creation. Python supports immutability for certain data types like tuples and strings.\n",
    "\n",
    "3. **Higher-Order Functions:** Python allows the use of higher-order functions, which are functions that take other functions as arguments or return functions as results. Examples include `map()`, `filter()`, and `reduce()`.\n",
    "\n",
    "4. **Lambda Functions:** Lambda functions, also known as anonymous functions, allow you to create small, unnamed functions on the fly. They are often used with higher-order functions.\n",
    "\n",
    "5. **Recursion:** Functional programming encourages the use of recursion to solve problems. Python supports recursion, but it's important to be mindful of stack limits for deep recursion.\n",
    "\n",
    "6. **Lazy Evaluation:** Lazy evaluation is a concept where expressions are not evaluated until their values are actually needed. Python supports lazy evaluation through generators and iterators.\n",
    "\n",
    "7. **First-Class Functions:** In Python, functions are first-class citizens, which means they can be assigned to variables, passed as arguments, and returned as values.\n",
    "\n",
    "8. **No Global Variables:** Functional programming discourages the use of global variables and mutable state. It promotes encapsulating state within functions.\n",
    "\n",
    "Here's a simple example of functional programming in Python using the `map()` and `lambda` functions:\n",
    "\n",
    "```python\n",
    "# Using map() and lambda to apply a function to each element of a list\n",
    "numbers = [1, 2, 3, 4, 5]\n",
    "squared_numbers = list(map(lambda x: x ** 2, numbers))\n",
    "print(squared_numbers)  # Output: [1, 4, 9, 16, 25]\n",
    "```\n",
    "\n",
    "While Python supports functional programming principles, it's important to note that Python is a multi-paradigm language, meaning you can use both functional and imperative (procedural) programming styles as needed. The choice of which paradigm to use often depends on the specific problem you're solving and your coding preferences."
   ]
  },
  {
   "cell_type": "markdown",
   "id": "1b27363a-070b-48c8-ac2d-83ec0ba74250",
   "metadata": {},
   "source": [
    "# Referentially Transparent (RT)\n",
    "- An operation is said to be RT, if it can be replaced with its corresponding value, whthout changing the programs behaviour for a given set of parameters."
   ]
  },
  {
   "cell_type": "code",
   "execution_count": 3,
   "id": "16402ee1-ae1b-4463-bf6a-1685497cdf82",
   "metadata": {
    "tags": []
   },
   "outputs": [
    {
     "name": "stdout",
     "output_type": "stream",
     "text": [
      "5\n",
      "5\n"
     ]
    }
   ],
   "source": [
    "# RT Example\n",
    "def increment(num):\n",
    "    return num+1\n",
    "\n",
    "print(increment(4))\n",
    "print(increment(4))"
   ]
  },
  {
   "cell_type": "markdown",
   "id": "639c0621-3d62-426b-9745-e66201196eed",
   "metadata": {},
   "source": [
    "Thus, the Function is RT if it always returns the same result for the same value as above. "
   ]
  },
  {
   "cell_type": "markdown",
   "id": "a3d1b1eb-2c9e-42c4-b6a2-ebf89d721f02",
   "metadata": {},
   "source": [
    "# High Order Functions in Python\n",
    "- In other words, a higher-order function either takes one or more functions as arguments or returns a function as its result. This allows for more flexible and modular code in functional programming.\n"
   ]
  },
  {
   "cell_type": "markdown",
   "id": "f62d2017-c0c5-4279-86fa-eda41f355684",
   "metadata": {},
   "source": [
    "# Currying Function\n",
    "- Currying is a technique that allows new functions to be created form existing functions by binding one or more parameters to a specific value. \n"
   ]
  }
 ],
 "metadata": {
  "kernelspec": {
   "display_name": "Python 3 (ipykernel)",
   "language": "python",
   "name": "python3"
  },
  "language_info": {
   "codemirror_mode": {
    "name": "ipython",
    "version": 3
   },
   "file_extension": ".py",
   "mimetype": "text/x-python",
   "name": "python",
   "nbconvert_exporter": "python",
   "pygments_lexer": "ipython3",
   "version": "3.11.3"
  }
 },
 "nbformat": 4,
 "nbformat_minor": 5
}
